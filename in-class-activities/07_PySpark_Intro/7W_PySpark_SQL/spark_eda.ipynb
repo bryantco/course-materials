{
 "cells": [
  {
   "cell_type": "markdown",
   "metadata": {},
   "source": [
    "# Exploratory Data Analysis in PySpark on an EMR Cluster\n",
    "\n",
    "Let's explore how you can use your PySpark coding skills in a JupyterHub notebook on an AWS EMR Cluster to perform an exploratory data analysis on large data sources. Specifically, we'll be revisiting our NYC Taxi Cab dataset that we worked with in Week 5, but this time, exploring data from the whole year of 2019 (as opposed to a single month). This dataset has billions of rows overall (80 million in 2019 alone) and would be challenging to work with in the absence of a scalable analytical framework like Spark. Note that this notebook is meant to be run on an EMR cluster, using a PySpark kernel.\n",
    "\n",
    "First (after configuring our PySpark environment below to enable us to install packages in our notebook session), let's load the data from S3 into our Spark session. The data is spread across multiple CSV files, so we use the wildcard (\\*) to indicate that we want the data from all of these files to be included within our dataframe, spread out over our EMR cluster in partitions. We're using the PySpark SQL `read.csv` method here so this wll be loaded into a Spark \"DataFrame\" -- which is built on top of an RDD (but has named columns -- as in a Pandas DataFrame)."
   ]
  },
  {
   "cell_type": "code",
   "execution_count": null,
   "metadata": {},
   "outputs": [],
   "source": [
    "%%configure -f\n",
    "{\n",
    "    \"conf\": {\n",
    "        \"spark.pyspark.python\": \"python3\",\n",
    "        \"spark.pyspark.virtualenv.enabled\": \"true\",\n",
    "        \"spark.pyspark.virtualenv.type\":\"native\",\n",
    "        \"spark.pyspark.virtualenv.bin.path\":\"/usr/bin/virtualenv\"\n",
    "    }\n",
    "}"
   ]
  },
  {
   "cell_type": "code",
   "execution_count": null,
   "metadata": {},
   "outputs": [],
   "source": [
    "df = spark.read.csv('s3://nyc-tlc/csv_backup/yellow_tripdata_2019*.csv', header=True)"
   ]
  },
  {
   "cell_type": "markdown",
   "metadata": {},
   "source": [
    "Let's take a look at our data and see what it looks like. Note that just like a regular RDD, we can't actually see anything unless we perform an \"action\" on it."
   ]
  },
  {
   "cell_type": "code",
   "execution_count": 3,
   "metadata": {},
   "outputs": [
    {
     "data": {
      "application/vnd.jupyter.widget-view+json": {
       "model_id": "",
       "version_major": 2,
       "version_minor": 0
      },
      "text/plain": [
       "FloatProgress(value=0.0, bar_style='info', description='Progress:', layout=Layout(height='25px', width='50%'),…"
      ]
     },
     "metadata": {},
     "output_type": "display_data"
    },
    {
     "name": "stdout",
     "output_type": "stream",
     "text": [
      "DataFrame[VendorID: string, tpep_pickup_datetime: string, tpep_dropoff_datetime: string, passenger_count: string, trip_distance: string, RatecodeID: string, store_and_fwd_flag: string, PULocationID: string, DOLocationID: string, payment_type: string, fare_amount: string, extra: string, mta_tax: string, tip_amount: string, tolls_amount: string, improvement_surcharge: string, total_amount: string, congestion_surcharge: string]"
     ]
    }
   ],
   "source": [
    "df"
   ]
  },
  {
   "cell_type": "code",
   "execution_count": 4,
   "metadata": {},
   "outputs": [
    {
     "data": {
      "application/vnd.jupyter.widget-view+json": {
       "model_id": "",
       "version_major": 2,
       "version_minor": 0
      },
      "text/plain": [
       "FloatProgress(value=0.0, bar_style='info', description='Progress:', layout=Layout(height='25px', width='50%'),…"
      ]
     },
     "metadata": {},
     "output_type": "display_data"
    },
    {
     "name": "stdout",
     "output_type": "stream",
     "text": [
      "root\n",
      " |-- VendorID: string (nullable = true)\n",
      " |-- tpep_pickup_datetime: string (nullable = true)\n",
      " |-- tpep_dropoff_datetime: string (nullable = true)\n",
      " |-- passenger_count: string (nullable = true)\n",
      " |-- trip_distance: string (nullable = true)\n",
      " |-- RatecodeID: string (nullable = true)\n",
      " |-- store_and_fwd_flag: string (nullable = true)\n",
      " |-- PULocationID: string (nullable = true)\n",
      " |-- DOLocationID: string (nullable = true)\n",
      " |-- payment_type: string (nullable = true)\n",
      " |-- fare_amount: string (nullable = true)\n",
      " |-- extra: string (nullable = true)\n",
      " |-- mta_tax: string (nullable = true)\n",
      " |-- tip_amount: string (nullable = true)\n",
      " |-- tolls_amount: string (nullable = true)\n",
      " |-- improvement_surcharge: string (nullable = true)\n",
      " |-- total_amount: string (nullable = true)\n",
      " |-- congestion_surcharge: string (nullable = true)"
     ]
    }
   ],
   "source": [
    "df.printSchema()"
   ]
  },
  {
   "cell_type": "code",
   "execution_count": 5,
   "metadata": {},
   "outputs": [
    {
     "data": {
      "application/vnd.jupyter.widget-view+json": {
       "model_id": "",
       "version_major": 2,
       "version_minor": 0
      },
      "text/plain": [
       "FloatProgress(value=0.0, bar_style='info', description='Progress:', layout=Layout(height='25px', width='50%'),…"
      ]
     },
     "metadata": {},
     "output_type": "display_data"
    },
    {
     "name": "stdout",
     "output_type": "stream",
     "text": [
      "84399019"
     ]
    }
   ],
   "source": [
    "df.count() # an action to return total count of rows in dataset"
   ]
  },
  {
   "cell_type": "markdown",
   "metadata": {},
   "source": [
    "Given that Spark DataFrames are built off of RDDs, we can still use methods like `take` to make small amounts of our data visible as list (we almost will never want to `collect` our data when working with big data, though; **ask**: Why?):"
   ]
  },
  {
   "cell_type": "code",
   "execution_count": 6,
   "metadata": {},
   "outputs": [
    {
     "data": {
      "application/vnd.jupyter.widget-view+json": {
       "model_id": "",
       "version_major": 2,
       "version_minor": 0
      },
      "text/plain": [
       "FloatProgress(value=0.0, bar_style='info', description='Progress:', layout=Layout(height='25px', width='50%'),…"
      ]
     },
     "metadata": {},
     "output_type": "display_data"
    },
    {
     "name": "stdout",
     "output_type": "stream",
     "text": [
      "[Row(VendorID='1', tpep_pickup_datetime='2019-01-01 00:46:40', tpep_dropoff_datetime='2019-01-01 00:53:20', passenger_count='1', trip_distance='1.50', RatecodeID='1', store_and_fwd_flag='N', PULocationID='151', DOLocationID='239', payment_type='1', fare_amount='7', extra='0.5', mta_tax='0.5', tip_amount='1.65', tolls_amount='0', improvement_surcharge='0.3', total_amount='9.95', congestion_surcharge=None), Row(VendorID='1', tpep_pickup_datetime='2019-01-01 00:59:47', tpep_dropoff_datetime='2019-01-01 01:18:59', passenger_count='1', trip_distance='2.60', RatecodeID='1', store_and_fwd_flag='N', PULocationID='239', DOLocationID='246', payment_type='1', fare_amount='14', extra='0.5', mta_tax='0.5', tip_amount='1', tolls_amount='0', improvement_surcharge='0.3', total_amount='16.3', congestion_surcharge=None), Row(VendorID='2', tpep_pickup_datetime='2018-12-21 13:48:30', tpep_dropoff_datetime='2018-12-21 13:52:40', passenger_count='3', trip_distance='.00', RatecodeID='1', store_and_fwd_flag='N', PULocationID='236', DOLocationID='236', payment_type='1', fare_amount='4.5', extra='0.5', mta_tax='0.5', tip_amount='0', tolls_amount='0', improvement_surcharge='0.3', total_amount='5.8', congestion_surcharge=None), Row(VendorID='2', tpep_pickup_datetime='2018-11-28 15:52:25', tpep_dropoff_datetime='2018-11-28 15:55:45', passenger_count='5', trip_distance='.00', RatecodeID='1', store_and_fwd_flag='N', PULocationID='193', DOLocationID='193', payment_type='2', fare_amount='3.5', extra='0.5', mta_tax='0.5', tip_amount='0', tolls_amount='0', improvement_surcharge='0.3', total_amount='7.55', congestion_surcharge=None), Row(VendorID='2', tpep_pickup_datetime='2018-11-28 15:56:57', tpep_dropoff_datetime='2018-11-28 15:58:33', passenger_count='5', trip_distance='.00', RatecodeID='2', store_and_fwd_flag='N', PULocationID='193', DOLocationID='193', payment_type='2', fare_amount='52', extra='0', mta_tax='0.5', tip_amount='0', tolls_amount='0', improvement_surcharge='0.3', total_amount='55.55', congestion_surcharge=None)]"
     ]
    }
   ],
   "source": [
    "df.take(5)"
   ]
  },
  {
   "cell_type": "markdown",
   "metadata": {},
   "source": [
    "Spark SQL also includes a `show` method that makes this a bit prettier, though:"
   ]
  },
  {
   "cell_type": "code",
   "execution_count": 7,
   "metadata": {},
   "outputs": [
    {
     "data": {
      "application/vnd.jupyter.widget-view+json": {
       "model_id": "",
       "version_major": 2,
       "version_minor": 0
      },
      "text/plain": [
       "FloatProgress(value=0.0, bar_style='info', description='Progress:', layout=Layout(height='25px', width='50%'),…"
      ]
     },
     "metadata": {},
     "output_type": "display_data"
    },
    {
     "name": "stdout",
     "output_type": "stream",
     "text": [
      "+------------+------------+\n",
      "|total_amount|tolls_amount|\n",
      "+------------+------------+\n",
      "|        9.95|           0|\n",
      "|        16.3|           0|\n",
      "|         5.8|           0|\n",
      "|        7.55|           0|\n",
      "|       55.55|           0|\n",
      "+------------+------------+\n",
      "only showing top 5 rows"
     ]
    }
   ],
   "source": [
    "df[['total_amount', 'tolls_amount']].show(5)"
   ]
  },
  {
   "cell_type": "markdown",
   "metadata": {},
   "source": [
    "## Exploring Data with Spark SQL\n",
    "\n",
    "We have a couple of options for exploring our data via Spark SQL. We can first create a temporary \"view\" on which we can perform SQL queries, as we would in a database:"
   ]
  },
  {
   "cell_type": "code",
   "execution_count": 8,
   "metadata": {},
   "outputs": [
    {
     "data": {
      "application/vnd.jupyter.widget-view+json": {
       "model_id": "",
       "version_major": 2,
       "version_minor": 0
      },
      "text/plain": [
       "FloatProgress(value=0.0, bar_style='info', description='Progress:', layout=Layout(height='25px', width='50%'),…"
      ]
     },
     "metadata": {},
     "output_type": "display_data"
    }
   ],
   "source": [
    "df.createOrReplaceTempView(\"taxi\")\n",
    "query = '''\n",
    "        SELECT passenger_count, AVG(trip_distance) as avg_distance\n",
    "        FROM taxi\n",
    "        WHERE passenger_count > 3\n",
    "        GROUP BY passenger_count\n",
    "        ORDER BY passenger_count\n",
    "        '''\n",
    "\n",
    "df2 = spark.sql(query) # doesn't execute until perform \"action\""
   ]
  },
  {
   "cell_type": "code",
   "execution_count": 9,
   "metadata": {},
   "outputs": [
    {
     "data": {
      "application/vnd.jupyter.widget-view+json": {
       "model_id": "",
       "version_major": 2,
       "version_minor": 0
      },
      "text/plain": [
       "FloatProgress(value=0.0, bar_style='info', description='Progress:', layout=Layout(height='25px', width='50%'),…"
      ]
     },
     "metadata": {},
     "output_type": "display_data"
    },
    {
     "name": "stdout",
     "output_type": "stream",
     "text": [
      "+---------------+------------------+\n",
      "|passenger_count|      avg_distance|\n",
      "+---------------+------------------+\n",
      "|              4| 3.156553361149423|\n",
      "|              5| 3.025776405356696|\n",
      "|              6|3.0237832859606053|\n",
      "|              7|3.2531249999999994|\n",
      "|              8| 5.363898916967511|\n",
      "|              9| 5.239200000000002|\n",
      "+---------------+------------------+"
     ]
    }
   ],
   "source": [
    "df2.show() # perform action"
   ]
  },
  {
   "cell_type": "markdown",
   "metadata": {},
   "source": [
    "Or we can use built-in methods and functions from Spark SQL to do the same thing on our Spark DataFrame directly:"
   ]
  },
  {
   "cell_type": "code",
   "execution_count": 10,
   "metadata": {},
   "outputs": [
    {
     "data": {
      "application/vnd.jupyter.widget-view+json": {
       "model_id": "",
       "version_major": 2,
       "version_minor": 0
      },
      "text/plain": [
       "FloatProgress(value=0.0, bar_style='info', description='Progress:', layout=Layout(height='25px', width='50%'),…"
      ]
     },
     "metadata": {},
     "output_type": "display_data"
    },
    {
     "name": "stdout",
     "output_type": "stream",
     "text": [
      "+---------------+------------------+\n",
      "|passenger_count|      avg_distance|\n",
      "+---------------+------------------+\n",
      "|              4|3.1565533611494216|\n",
      "|              5|3.0257764053566976|\n",
      "|              6| 3.023783285960606|\n",
      "|              7|          3.253125|\n",
      "|              8| 5.363898916967508|\n",
      "|              9|            5.2392|\n",
      "+---------------+------------------+"
     ]
    }
   ],
   "source": [
    "import pyspark.sql.functions as F\n",
    "\n",
    "df2_alt = df.filter(F.col('passenger_count') > 3) \\\n",
    "            .groupBy('passenger_count') \\\n",
    "            .agg(F.avg(F.col('trip_distance')) \\\n",
    "                  .alias('avg_distance')) \\\n",
    "            .orderBy(F.col('passenger_count'))\n",
    "\n",
    "df2_alt.show()"
   ]
  },
  {
   "cell_type": "markdown",
   "metadata": {},
   "source": [
    "## An aside on performance\n",
    "\n",
    "At the beginning of the notebook, we loaded in our data in CSV format. However, we saw in Week 5 that this same data is available in Parquet format as well. Which one should we prefer? In general, [Parquet tends allow for faster read speeds in analytical contexts and also is smaller when saved to disk than CSV](https://towardsdatascience.com/demystifying-the-parquet-file-format-13adb0206705). If we load the same data in as Parquet, you can see a huge difference in the time it takes to perform the same operations:"
   ]
  },
  {
   "cell_type": "code",
   "execution_count": 11,
   "metadata": {},
   "outputs": [
    {
     "data": {
      "application/vnd.jupyter.widget-view+json": {
       "model_id": "",
       "version_major": 2,
       "version_minor": 0
      },
      "text/plain": [
       "FloatProgress(value=0.0, bar_style='info', description='Progress:', layout=Layout(height='25px', width='50%'),…"
      ]
     },
     "metadata": {},
     "output_type": "display_data"
    }
   ],
   "source": [
    "df_parquet = spark.read.parquet('s3://nyc-tlc/trip data/yellow_tripdata_2019*.parquet')"
   ]
  },
  {
   "cell_type": "code",
   "execution_count": 12,
   "metadata": {},
   "outputs": [
    {
     "data": {
      "application/vnd.jupyter.widget-view+json": {
       "model_id": "",
       "version_major": 2,
       "version_minor": 0
      },
      "text/plain": [
       "FloatProgress(value=0.0, bar_style='info', description='Progress:', layout=Layout(height='25px', width='50%'),…"
      ]
     },
     "metadata": {},
     "output_type": "display_data"
    },
    {
     "name": "stdout",
     "output_type": "stream",
     "text": [
      "Count (CSV): 18.258209466934204"
     ]
    }
   ],
   "source": [
    "import time\n",
    "t0 = time.time()\n",
    "df.count()\n",
    "print(\"Count (CSV):\", time.time() - t0)"
   ]
  },
  {
   "cell_type": "code",
   "execution_count": 13,
   "metadata": {},
   "outputs": [
    {
     "data": {
      "application/vnd.jupyter.widget-view+json": {
       "model_id": "",
       "version_major": 2,
       "version_minor": 0
      },
      "text/plain": [
       "FloatProgress(value=0.0, bar_style='info', description='Progress:', layout=Layout(height='25px', width='50%'),…"
      ]
     },
     "metadata": {},
     "output_type": "display_data"
    },
    {
     "name": "stdout",
     "output_type": "stream",
     "text": [
      "Count (Parquet): 0.9182994365692139"
     ]
    }
   ],
   "source": [
    "t0 = time.time()\n",
    "df_parquet.count()\n",
    "print(\"Count (Parquet):\", time.time() - t0)"
   ]
  },
  {
   "cell_type": "code",
   "execution_count": 14,
   "metadata": {},
   "outputs": [
    {
     "data": {
      "application/vnd.jupyter.widget-view+json": {
       "model_id": "",
       "version_major": 2,
       "version_minor": 0
      },
      "text/plain": [
       "FloatProgress(value=0.0, bar_style='info', description='Progress:', layout=Layout(height='25px', width='50%'),…"
      ]
     },
     "metadata": {},
     "output_type": "display_data"
    },
    {
     "name": "stdout",
     "output_type": "stream",
     "text": [
      "+---------------+------------------+\n",
      "|passenger_count|      avg_distance|\n",
      "+---------------+------------------+\n",
      "|              4|3.1565533611494225|\n",
      "|              5|3.0257764053566976|\n",
      "|              6| 3.023783285960604|\n",
      "|              7|3.2531249999999994|\n",
      "|              8| 5.363898916967509|\n",
      "|              9| 5.239199999999999|\n",
      "+---------------+------------------+\n",
      "\n",
      "Query (CSV): 39.74522924423218"
     ]
    }
   ],
   "source": [
    "t0 = time.time()\n",
    "df.filter(F.col('passenger_count') > 3) \\\n",
    "           .groupBy('passenger_count') \\\n",
    "           .agg(F.avg(F.col('trip_distance')) \\\n",
    "                 .alias('avg_distance')) \\\n",
    "           .orderBy(F.col('passenger_count')) \\\n",
    "           .show()\n",
    "print(\"Query (CSV):\", time.time() - t0)"
   ]
  },
  {
   "cell_type": "code",
   "execution_count": 15,
   "metadata": {},
   "outputs": [
    {
     "data": {
      "application/vnd.jupyter.widget-view+json": {
       "model_id": "",
       "version_major": 2,
       "version_minor": 0
      },
      "text/plain": [
       "FloatProgress(value=0.0, bar_style='info', description='Progress:', layout=Layout(height='25px', width='50%'),…"
      ]
     },
     "metadata": {},
     "output_type": "display_data"
    },
    {
     "name": "stdout",
     "output_type": "stream",
     "text": [
      "+---------------+------------------+\n",
      "|passenger_count|      avg_distance|\n",
      "+---------------+------------------+\n",
      "|            4.0| 3.156547822704933|\n",
      "|            5.0| 3.025776405356713|\n",
      "|            6.0| 3.023784768827353|\n",
      "|            7.0|3.2531250000000003|\n",
      "|            8.0| 5.363898916967509|\n",
      "|            9.0|            5.2392|\n",
      "+---------------+------------------+\n",
      "\n",
      "Query (Parquet): 2.9963972568511963"
     ]
    }
   ],
   "source": [
    "t0 = time.time()\n",
    "df_parquet.filter(F.col('passenger_count') > 3) \\\n",
    "            .groupBy('passenger_count') \\\n",
    "            .agg(F.avg(F.col('trip_distance')) \\\n",
    "                  .alias('avg_distance')) \\\n",
    "            .orderBy(F.col('passenger_count')) \\\n",
    "            .show()\n",
    "print(\"Query (Parquet):\", time.time() - t0)"
   ]
  },
  {
   "cell_type": "markdown",
   "metadata": {},
   "source": [
    "So, it's strongly recommended that you work with Parquet files for analytical workloads as opposed to text-based formats like CSV and JSON (it can sometimes even make sense to just convert existing files into Parquet format for the purposes of analysis). This becomes especially important as your data size increases further than what we're working with in this demo.\n",
    "\n",
    "## Plotting Exploratory Findings\n",
    "\n",
    "An important part of exploratory data analysis is visualizing your findings. Unfortunately, we do not have a plotting library installed on our cluster!"
   ]
  },
  {
   "cell_type": "code",
   "execution_count": 16,
   "metadata": {},
   "outputs": [
    {
     "data": {
      "application/vnd.jupyter.widget-view+json": {
       "model_id": "",
       "version_major": 2,
       "version_minor": 0
      },
      "text/plain": [
       "FloatProgress(value=0.0, bar_style='info', description='Progress:', layout=Layout(height='25px', width='50%'),…"
      ]
     },
     "metadata": {},
     "output_type": "display_data"
    },
    {
     "name": "stderr",
     "output_type": "stream",
     "text": [
      "An error was encountered:\n",
      "No module named 'matplotlib'\n",
      "Traceback (most recent call last):\n",
      "ModuleNotFoundError: No module named 'matplotlib'\n",
      "\n"
     ]
    }
   ],
   "source": [
    "import matplotlib.pyplot as plt # matplotlib not installed by default!"
   ]
  },
  {
   "cell_type": "markdown",
   "metadata": {},
   "source": [
    "We can see packages that we currently have available in our Spark context, though, by using the `list_packages` method and install additional packages via the `install_pypi_package` method:"
   ]
  },
  {
   "cell_type": "code",
   "execution_count": 16,
   "metadata": {},
   "outputs": [
    {
     "data": {
      "application/vnd.jupyter.widget-view+json": {
       "model_id": "",
       "version_major": 2,
       "version_minor": 0
      },
      "text/plain": [
       "FloatProgress(value=0.0, bar_style='info', description='Progress:', layout=Layout(height='25px', width='50%'),…"
      ]
     },
     "metadata": {},
     "output_type": "display_data"
    },
    {
     "name": "stdout",
     "output_type": "stream",
     "text": [
      "Package                    Version   \n",
      "-------------------------- ----------\n",
      "beautifulsoup4             4.9.3     \n",
      "boto                       2.49.0    \n",
      "click                      7.1.2     \n",
      "jmespath                   0.10.0    \n",
      "joblib                     0.17.0    \n",
      "lxml                       4.6.1     \n",
      "mysqlclient                1.4.2     \n",
      "nltk                       3.5       \n",
      "nose                       1.3.4     \n",
      "numpy                      1.16.5    \n",
      "pip                        9.0.1     \n",
      "py-dateutil                2.2       \n",
      "python37-sagemaker-pyspark 1.4.1     \n",
      "pytz                       2020.1    \n",
      "PyYAML                     5.3.1     \n",
      "regex                      2020.10.28\n",
      "setuptools                 28.8.0    \n",
      "six                        1.13.0    \n",
      "tqdm                       4.51.0    \n",
      "wheel                      0.29.0    \n",
      "windmill                   1.6"
     ]
    }
   ],
   "source": [
    "sc.list_packages()"
   ]
  },
  {
   "cell_type": "code",
   "execution_count": null,
   "metadata": {},
   "outputs": [],
   "source": [
    "sc.install_pypi_package(\"boto3==1.19.2\")\n",
    "sc.install_pypi_package(\"pandas==1.0.5\")\n",
    "sc.install_pypi_package(\"scipy==1.4.1\")\n",
    "sc.install_pypi_package(\"matplotlib==3.2.1\")\n",
    "sc.install_pypi_package(\"seaborn==0.10.1\")"
   ]
  },
  {
   "cell_type": "code",
   "execution_count": 18,
   "metadata": {},
   "outputs": [
    {
     "data": {
      "application/vnd.jupyter.widget-view+json": {
       "model_id": "",
       "version_major": 2,
       "version_minor": 0
      },
      "text/plain": [
       "FloatProgress(value=0.0, bar_style='info', description='Progress:', layout=Layout(height='25px', width='50%'),…"
      ]
     },
     "metadata": {},
     "output_type": "display_data"
    },
    {
     "name": "stdout",
     "output_type": "stream",
     "text": [
      "Package                    Version   \n",
      "-------------------------- ----------\n",
      "beautifulsoup4             4.9.3     \n",
      "boto                       2.49.0    \n",
      "boto3                      1.19.2    \n",
      "botocore                   1.22.12   \n",
      "click                      7.1.2     \n",
      "cycler                     0.11.0    \n",
      "jmespath                   0.10.0    \n",
      "joblib                     0.17.0    \n",
      "kiwisolver                 1.4.4     \n",
      "lxml                       4.6.1     \n",
      "matplotlib                 3.2.1     \n",
      "mysqlclient                1.4.2     \n",
      "nltk                       3.5       \n",
      "nose                       1.3.4     \n",
      "numpy                      1.16.5    \n",
      "pandas                     1.0.5     \n",
      "pip                        9.0.1     \n",
      "py-dateutil                2.2       \n",
      "pyparsing                  3.0.9     \n",
      "python-dateutil            2.8.2     \n",
      "python37-sagemaker-pyspark 1.4.1     \n",
      "pytz                       2020.1    \n",
      "PyYAML                     5.3.1     \n",
      "regex                      2020.10.28\n",
      "s3transfer                 0.5.2     \n",
      "scipy                      1.4.1     \n",
      "seaborn                    0.10.1    \n",
      "setuptools                 28.8.0    \n",
      "six                        1.13.0    \n",
      "tqdm                       4.51.0    \n",
      "typing-extensions          4.5.0     \n",
      "urllib3                    1.26.15   \n",
      "wheel                      0.29.0    \n",
      "windmill                   1.6"
     ]
    }
   ],
   "source": [
    "sc.list_packages() # everything is installed now!"
   ]
  },
  {
   "cell_type": "markdown",
   "metadata": {},
   "source": [
    "Now that we have installed our plotting libraries (and Pandas), we can convert our Spark DataFrame into a Pandas DataFrame and use our plotting libraries as normal. Note that this is a small dataframe, but you want to be careful with converting data to Pandas, as all of this data is being made accessible on the primary node (and is no longer distributed). Therefore, in general, it is best to do the computational work in Spark before passing smaller output for visualization to Seaborn/Matplotlib:"
   ]
  },
  {
   "cell_type": "code",
   "execution_count": 19,
   "metadata": {},
   "outputs": [
    {
     "data": {
      "application/vnd.jupyter.widget-view+json": {
       "model_id": "",
       "version_major": 2,
       "version_minor": 0
      },
      "text/plain": [
       "FloatProgress(value=0.0, bar_style='info', description='Progress:', layout=Layout(height='25px', width='50%'),…"
      ]
     },
     "metadata": {},
     "output_type": "display_data"
    },
    {
     "data": {
      "image/png": "[encoded data removed]",
      "text/plain": [
       "<IPython.core.display.Image object>"
      ]
     },
     "metadata": {},
     "output_type": "display_data"
    }
   ],
   "source": [
    "import seaborn as sns\n",
    "import matplotlib.pyplot as plt\n",
    "\n",
    "# convert to Pandas DataFrame in order to plot\n",
    "pdf = df2.toPandas()\n",
    "\n",
    "# Close previous plots; otherwise, will just overwrite and display again\n",
    "plt.close()\n",
    "\n",
    "sns.barplot(x='passenger_count', y='avg_distance', data=pdf)\n",
    "plt.title('Average Distance for > 3 Passengers (2019)')\n",
    "\n",
    "%matplot plt"
   ]
  },
  {
   "cell_type": "markdown",
   "metadata": {},
   "source": [
    "If you must visualize point data, for instance, in your EDA, you will see better results (and lessen your risk of running out of memory on your primary node) if you take a small random sample of the distributed DataFrame and only plot that sample. We'll take a look at some other strategies for visualizing large datasets in Week 9, but this will tend to be your best bet using standard Python plotting libraries alone:"
   ]
  },
  {
   "cell_type": "code",
   "execution_count": 20,
   "metadata": {},
   "outputs": [
    {
     "data": {
      "application/vnd.jupyter.widget-view+json": {
       "model_id": "",
       "version_major": 2,
       "version_minor": 0
      },
      "text/plain": [
       "FloatProgress(value=0.0, bar_style='info', description='Progress:', layout=Layout(height='25px', width='50%'),…"
      ]
     },
     "metadata": {},
     "output_type": "display_data"
    },
    {
     "name": "stdout",
     "output_type": "stream",
     "text": [
      "889"
     ]
    }
   ],
   "source": [
    "sampled_df = df_parquet.sample(fraction=0.00001)\n",
    "pdf_sampled = sampled_df.toPandas()\n",
    "pdf_sampled.VendorID.count() # much smaller"
   ]
  },
  {
   "cell_type": "code",
   "execution_count": 21,
   "metadata": {},
   "outputs": [
    {
     "data": {
      "application/vnd.jupyter.widget-view+json": {
       "model_id": "",
       "version_major": 2,
       "version_minor": 0
      },
      "text/plain": [
       "FloatProgress(value=0.0, bar_style='info', description='Progress:', layout=Layout(height='25px', width='50%'),…"
      ]
     },
     "metadata": {},
     "output_type": "display_data"
    },
    {
     "data": {
      "image/png": "[encoded data removed]",
      "text/plain": [
       "<IPython.core.display.Image object>"
      ]
     },
     "metadata": {},
     "output_type": "display_data"
    }
   ],
   "source": [
    "# Close previous plots; otherwise, will just overwrite and display again\n",
    "plt.close()\n",
    "\n",
    "pdf_sampled.plot.scatter('trip_distance', 'total_amount')\n",
    "\n",
    "%matplot plt"
   ]
  },
  {
   "cell_type": "markdown",
   "metadata": {},
   "source": [
    "## User-Defined Functions\n",
    "\n",
    "Finally, it is worth mentioning that you can create \"user-defined functions\" as well (which are written in Python) if Spark SQL does not already implement an operation you want to perform. Note, though, that these are really expensive to perform, so they should typically only be used when you have no other choice. For instance, using the `udf`  PySpark SQL function, let's create a function that transforms the fare amount by a random normal number generated by `numpy` (assuming this operation is relevant for our EDA):"
   ]
  },
  {
   "cell_type": "code",
   "execution_count": 22,
   "metadata": {
    "scrolled": false
   },
   "outputs": [
    {
     "data": {
      "application/vnd.jupyter.widget-view+json": {
       "model_id": "",
       "version_major": 2,
       "version_minor": 0
      },
      "text/plain": [
       "FloatProgress(value=0.0, bar_style='info', description='Progress:', layout=Layout(height='25px', width='50%'),…"
      ]
     },
     "metadata": {},
     "output_type": "display_data"
    },
    {
     "name": "stdout",
     "output_type": "stream",
     "text": [
      "+-----------+------------------------+\n",
      "|fare_amount|rand_fare_transformation|\n",
      "+-----------+------------------------+\n",
      "|        2.5|                    4.22|\n",
      "|       13.0|                   12.52|\n",
      "|       41.0|                   40.92|\n",
      "|       27.0|                   27.11|\n",
      "|        5.5|                    4.36|\n",
      "|        6.0|                    6.06|\n",
      "|        5.5|                    7.34|\n",
      "|       17.0|                   17.47|\n",
      "|        6.0|                    4.68|\n",
      "|        5.0|                    5.55|\n",
      "|       10.5|                    10.1|\n",
      "|       20.5|                   20.13|\n",
      "|       45.5|                   45.22|\n",
      "|        9.0|                    8.35|\n",
      "|        8.0|                    6.85|\n",
      "|       31.5|                   32.55|\n",
      "|       19.0|                   19.24|\n",
      "|       12.0|                   12.74|\n",
      "|       52.0|                   50.96|\n",
      "|       19.5|                   20.46|\n",
      "+-----------+------------------------+\n",
      "only showing top 20 rows"
     ]
    }
   ],
   "source": [
    "from numpy.random import normal\n",
    "\n",
    "def python_function(x):\n",
    "    return round(float(x) + normal(), 2)\n",
    "\n",
    "my_udf = F.udf(python_function)\n",
    "\n",
    "df_parquet.withColumn('rand_fare_transformation', my_udf(F.col('fare_amount'))) \\\n",
    "          .select(['fare_amount', 'rand_fare_transformation']) \\\n",
    "          .show()"
   ]
  },
  {
   "cell_type": "markdown",
   "metadata": {},
   "source": [
    "This also means that we can use `numba` to compile our code that we package into a UDF that we will apply elementwise to each row in our DataFrame (much like we did with `pandas` earlier in the course!):"
   ]
  },
  {
   "cell_type": "code",
   "execution_count": null,
   "metadata": {},
   "outputs": [],
   "source": [
    "sc.install_pypi_package('numba==0.50.0') # install numba"
   ]
  },
  {
   "cell_type": "code",
   "execution_count": 24,
   "metadata": {},
   "outputs": [
    {
     "data": {
      "application/vnd.jupyter.widget-view+json": {
       "model_id": "",
       "version_major": 2,
       "version_minor": 0
      },
      "text/plain": [
       "FloatProgress(value=0.0, bar_style='info', description='Progress:', layout=Layout(height='25px', width='50%'),…"
      ]
     },
     "metadata": {},
     "output_type": "display_data"
    },
    {
     "name": "stdout",
     "output_type": "stream",
     "text": [
      "+-----------+------------------------+\n",
      "|fare_amount|rand_fare_transformation|\n",
      "+-----------+------------------------+\n",
      "|        2.5|                    0.99|\n",
      "|       13.0|                   12.47|\n",
      "|       41.0|                   40.68|\n",
      "|       27.0|                    26.9|\n",
      "|        5.5|                    5.98|\n",
      "|        6.0|                    6.63|\n",
      "|        5.5|                    4.69|\n",
      "|       17.0|                   14.84|\n",
      "|        6.0|                    5.49|\n",
      "|        5.0|                    5.89|\n",
      "|       10.5|                    9.95|\n",
      "|       20.5|                   19.53|\n",
      "|       45.5|                   46.66|\n",
      "|        9.0|                   10.68|\n",
      "|        8.0|                    8.43|\n",
      "|       31.5|                   30.77|\n",
      "|       19.0|                   19.16|\n",
      "|       12.0|                   10.13|\n",
      "|       52.0|                   50.93|\n",
      "|       19.5|                   19.53|\n",
      "+-----------+------------------------+\n",
      "only showing top 20 rows"
     ]
    }
   ],
   "source": [
    "from numba import jit\n",
    "\n",
    "@jit(nopython=True)\n",
    "def python_function(x):\n",
    "    return round(x + float(normal()), 2)\n",
    "\n",
    "my_udf = F.udf(python_function)\n",
    "\n",
    "df_parquet.withColumn('rand_fare_transformation', my_udf(F.col('fare_amount'))) \\\n",
    "          .select(['fare_amount', 'rand_fare_transformation']) \\\n",
    "          .show()"
   ]
  },
  {
   "cell_type": "markdown",
   "metadata": {},
   "source": [
    "## Activity\n",
    "\n",
    "1. What were the top 4 drop-off location IDs (in terms of trip frequency) during 2019? Note (Optional): if you're curious, you can look up the ID meanings [in a supplemental file in the same S3 bucket](https://s3.amazonaws.com/nyc-tlc/misc/taxi+_zone_lookup.csv).\n",
    "2. Read in the 2020 Yellow Cab trips data and run the same query. How does the frequency of the top 4 drop-off locations change from 2019 to 2020?\n",
    "\n",
    "If you have time, produce a plot to visualize the change between the two years."
   ]
  },
  {
   "cell_type": "code",
   "execution_count": null,
   "metadata": {},
   "outputs": [],
   "source": []
  }
 ],
 "metadata": {
  "kernelspec": {
   "display_name": "PySpark",
   "language": "",
   "name": "pysparkkernel"
  },
  "language_info": {
   "codemirror_mode": {
    "name": "python",
    "version": 3
   },
   "mimetype": "text/x-python",
   "name": "pyspark",
   "pygments_lexer": "python3"
  }
 },
 "nbformat": 4,
 "nbformat_minor": 4
}
